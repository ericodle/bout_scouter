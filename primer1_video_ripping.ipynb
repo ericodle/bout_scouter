{
  "nbformat": 4,
  "nbformat_minor": 0,
  "metadata": {
    "colab": {
      "name": "primer1_video_ripping.ipynb",
      "provenance": [],
      "collapsed_sections": [],
      "mount_file_id": "1HVGBclZraD7Uq1AtyI1JSBtHsTYInOzA",
      "authorship_tag": "ABX9TyMPWiLsRxnMyMJZo8yJAzR0",
      "include_colab_link": true
    },
    "kernelspec": {
      "name": "python3",
      "display_name": "Python 3"
    },
    "language_info": {
      "name": "python"
    }
  },
  "cells": [
    {
      "cell_type": "markdown",
      "metadata": {
        "id": "view-in-github",
        "colab_type": "text"
      },
      "source": [
        "<a href=\"https://colab.research.google.com/github/ericodle/bout_scouter/blob/main/primer1_video_ripping.ipynb\" target=\"_parent\"><img src=\"https://colab.research.google.com/assets/colab-badge.svg\" alt=\"Open In Colab\"/></a>"
      ]
    },
    {
      "cell_type": "code",
      "source": [
        "# Install this, and anything other dependencies you may be lacking.\n",
        "!pip install pytube"
      ],
      "metadata": {
        "id": "RNj9Gg64kqW5"
      },
      "execution_count": null,
      "outputs": []
    },
    {
      "cell_type": "code",
      "source": [
        "from pytube import YouTube\n",
        "import os"
      ],
      "metadata": {
        "id": "9hWwqBXlkfHx"
      },
      "execution_count": null,
      "outputs": []
    },
    {
      "cell_type": "code",
      "source": [
        "# Here's a simple download function using pytube's YouTube module.\n",
        "# Regarding the function arguments:\n",
        "#     \"url\" is the url of the youtube video you want to download\n",
        "#     \"filepath\" is where you want the video to go\n",
        "\n",
        "def download_video(url, filepath):\n",
        "\n",
        "    vid = YouTube(url)\n",
        "    vid = vid.streams.filter(progressive=True, file_extension='mp4').order_by('resolution').desc().first()\n",
        "    if not os.path.exists(filepath):\n",
        "        os.makedirs(filepath)\n",
        "    vid.download(filepath)"
      ],
      "metadata": {
        "id": "_QaHMsQ8kf7s"
      },
      "execution_count": null,
      "outputs": []
    },
    {
      "cell_type": "markdown",
      "source": [
        "For practice, I have found a very analysis-friendly video of Yamada vs. Santarelli in the quarter-finals of the 2020 Tokyo Olypmics.\n",
        "\n",
        "The poster of this video has already done a lot of work for us. Namely, they have cut out the slow-mo replays and head-on camera angles, leaving only lateral view footage that starts from \"fence\" to \"halt.\"\n",
        "\n",
        "Cleaning up messier footage will be a task for another day."
      ],
      "metadata": {
        "id": "3XEgsiNIoqSr"
      }
    },
    {
      "cell_type": "code",
      "source": [
        "# Don't forget to mount your google drive. Or, use a local filepath.\n",
        "download_video('https://www.youtube.com/watch?v=eO3XsBLrVhY', '/content/drive/MyDrive')"
      ],
      "metadata": {
        "id": "OhYgg88TkkM1"
      },
      "execution_count": null,
      "outputs": []
    },
    {
      "cell_type": "markdown",
      "source": [
        "The video should have downloaded to the filepath you entered. If you used your google drive, you can simply navigate to the newly downloaded mp4 file and right-click to select \"Download.\" \n",
        "\n",
        "And with that, your dataset is one bout larger."
      ],
      "metadata": {
        "id": "4NtTEoMXnqvh"
      }
    }
  ]
}